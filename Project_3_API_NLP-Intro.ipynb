{
 "cells": [
  {
   "cell_type": "markdown",
   "id": "9daa05c7",
   "metadata": {},
   "source": [
    "### Import libraries and files\n",
    "In this section I will do preliminary work to test the APIs and to search the news on Elon Musk.  In a separate notebook I will gather posts from two different subreddits, one for Tesla and one for SpaceX"
   ]
  },
  {
   "cell_type": "markdown",
   "id": "f7a50ac3",
   "metadata": {},
   "source": [
    "### Import libraries and files"
   ]
  },
  {
   "cell_type": "code",
   "execution_count": 1,
   "id": "48ba734f",
   "metadata": {},
   "outputs": [],
   "source": [
    "import pandas as pd\n",
    "import numpy as np\n",
    "import requests\n",
    "import time\n",
    "import matplotlib.pyplot as plt\n",
    "import seaborn as sns\n",
    "import sklearn.metrics as metrics\n",
    "\n",
    "from sklearn.model_selection import train_test_split, GridSearchCV, cross_val_score\n",
    "from sklearn.feature_extraction.text import CountVectorizer, TfidfVectorizer\n",
    "from sklearn.linear_model import LogisticRegression\n",
    "from collections import Counter"
   ]
  },
  {
   "cell_type": "code",
   "execution_count": 2,
   "id": "5b189434",
   "metadata": {},
   "outputs": [],
   "source": [
    "# Create URL\n",
    "url = 'https://api.pushshift.io/reddit/search/submission'"
   ]
  },
  {
   "cell_type": "markdown",
   "id": "87150c42",
   "metadata": {},
   "source": [
    "### Setting up a preliminary search to test the url and the parameters"
   ]
  },
  {
   "cell_type": "code",
   "execution_count": 3,
   "id": "df5cae98",
   "metadata": {},
   "outputs": [
    {
     "data": {
      "text/plain": [
       "200"
      ]
     },
     "execution_count": 3,
     "metadata": {},
     "output_type": "execute_result"
    }
   ],
   "source": [
    "# This a to test my parameters and search\n",
    "\n",
    "params = {\n",
    "'subreddit': 'news',\n",
    "'q': 'Musk',\n",
    "'size': 500\n",
    "}\n",
    "'?subreddit=news&q=f1&size=50'\n",
    "\n",
    "res = requests.get(url, params = params)\n",
    "res.status_code\n"
   ]
  },
  {
   "cell_type": "code",
   "execution_count": 4,
   "id": "aee91ddf",
   "metadata": {},
   "outputs": [],
   "source": [
    "posts = res.json()\n",
    "#posts"
   ]
  },
  {
   "cell_type": "code",
   "execution_count": 10,
   "id": "c98d2292",
   "metadata": {},
   "outputs": [],
   "source": [
    "# res.text"
   ]
  },
  {
   "cell_type": "code",
   "execution_count": 11,
   "id": "48ed46b8",
   "metadata": {},
   "outputs": [
    {
     "data": {
      "text/plain": [
       "['data']"
      ]
     },
     "execution_count": 11,
     "metadata": {},
     "output_type": "execute_result"
    }
   ],
   "source": [
    "list(posts.keys())[:10]"
   ]
  },
  {
   "cell_type": "code",
   "execution_count": 12,
   "id": "a01f2bc8",
   "metadata": {},
   "outputs": [
    {
     "data": {
      "text/html": [
       "<div>\n",
       "<style scoped>\n",
       "    .dataframe tbody tr th:only-of-type {\n",
       "        vertical-align: middle;\n",
       "    }\n",
       "\n",
       "    .dataframe tbody tr th {\n",
       "        vertical-align: top;\n",
       "    }\n",
       "\n",
       "    .dataframe thead th {\n",
       "        text-align: right;\n",
       "    }\n",
       "</style>\n",
       "<table border=\"1\" class=\"dataframe\">\n",
       "  <thead>\n",
       "    <tr style=\"text-align: right;\">\n",
       "      <th></th>\n",
       "      <th>all_awardings</th>\n",
       "      <th>allow_live_comments</th>\n",
       "      <th>author</th>\n",
       "      <th>author_flair_css_class</th>\n",
       "      <th>author_flair_richtext</th>\n",
       "      <th>author_flair_text</th>\n",
       "      <th>author_flair_type</th>\n",
       "      <th>author_fullname</th>\n",
       "      <th>author_is_blocked</th>\n",
       "      <th>author_patreon_flair</th>\n",
       "      <th>...</th>\n",
       "      <th>url_overridden_by_dest</th>\n",
       "      <th>whitelist_status</th>\n",
       "      <th>wls</th>\n",
       "      <th>link_flair_text</th>\n",
       "      <th>author_flair_background_color</th>\n",
       "      <th>author_flair_text_color</th>\n",
       "      <th>media</th>\n",
       "      <th>media_embed</th>\n",
       "      <th>secure_media</th>\n",
       "      <th>secure_media_embed</th>\n",
       "    </tr>\n",
       "  </thead>\n",
       "  <tbody>\n",
       "    <tr>\n",
       "      <th>0</th>\n",
       "      <td>[]</td>\n",
       "      <td>False</td>\n",
       "      <td>ajenn22</td>\n",
       "      <td>None</td>\n",
       "      <td>[]</td>\n",
       "      <td>None</td>\n",
       "      <td>text</td>\n",
       "      <td>t2_ynxod92</td>\n",
       "      <td>False</td>\n",
       "      <td>False</td>\n",
       "      <td>...</td>\n",
       "      <td>https://nypost.com/2022/04/15/elon-musk-consid...</td>\n",
       "      <td>all_ads</td>\n",
       "      <td>6</td>\n",
       "      <td>NaN</td>\n",
       "      <td>NaN</td>\n",
       "      <td>NaN</td>\n",
       "      <td>NaN</td>\n",
       "      <td>NaN</td>\n",
       "      <td>NaN</td>\n",
       "      <td>NaN</td>\n",
       "    </tr>\n",
       "    <tr>\n",
       "      <th>1</th>\n",
       "      <td>[]</td>\n",
       "      <td>False</td>\n",
       "      <td>mrkuta</td>\n",
       "      <td>None</td>\n",
       "      <td>[]</td>\n",
       "      <td>None</td>\n",
       "      <td>text</td>\n",
       "      <td>t2_wdyz0</td>\n",
       "      <td>False</td>\n",
       "      <td>False</td>\n",
       "      <td>...</td>\n",
       "      <td>https://thelittlefacts.com/is-elon-musk-from-a...</td>\n",
       "      <td>all_ads</td>\n",
       "      <td>6</td>\n",
       "      <td>NaN</td>\n",
       "      <td>NaN</td>\n",
       "      <td>NaN</td>\n",
       "      <td>NaN</td>\n",
       "      <td>NaN</td>\n",
       "      <td>NaN</td>\n",
       "      <td>NaN</td>\n",
       "    </tr>\n",
       "  </tbody>\n",
       "</table>\n",
       "<p>2 rows × 72 columns</p>\n",
       "</div>"
      ],
      "text/plain": [
       "  all_awardings  allow_live_comments   author author_flair_css_class  \\\n",
       "0            []                False  ajenn22                   None   \n",
       "1            []                False   mrkuta                   None   \n",
       "\n",
       "  author_flair_richtext author_flair_text author_flair_type author_fullname  \\\n",
       "0                    []              None              text      t2_ynxod92   \n",
       "1                    []              None              text        t2_wdyz0   \n",
       "\n",
       "   author_is_blocked author_patreon_flair  ...  \\\n",
       "0              False                False  ...   \n",
       "1              False                False  ...   \n",
       "\n",
       "                              url_overridden_by_dest whitelist_status  wls  \\\n",
       "0  https://nypost.com/2022/04/15/elon-musk-consid...          all_ads    6   \n",
       "1  https://thelittlefacts.com/is-elon-musk-from-a...          all_ads    6   \n",
       "\n",
       "   link_flair_text  author_flair_background_color author_flair_text_color  \\\n",
       "0              NaN                            NaN                     NaN   \n",
       "1              NaN                            NaN                     NaN   \n",
       "\n",
       "  media media_embed secure_media  secure_media_embed  \n",
       "0   NaN         NaN          NaN                 NaN  \n",
       "1   NaN         NaN          NaN                 NaN  \n",
       "\n",
       "[2 rows x 72 columns]"
      ]
     },
     "execution_count": 12,
     "metadata": {},
     "output_type": "execute_result"
    }
   ],
   "source": [
    "posts = pd.DataFrame(res.json()['data'])\n",
    "posts.head(2)"
   ]
  },
  {
   "cell_type": "code",
   "execution_count": 13,
   "id": "634646f6",
   "metadata": {},
   "outputs": [
    {
     "data": {
      "text/html": [
       "<div>\n",
       "<style scoped>\n",
       "    .dataframe tbody tr th:only-of-type {\n",
       "        vertical-align: middle;\n",
       "    }\n",
       "\n",
       "    .dataframe tbody tr th {\n",
       "        vertical-align: top;\n",
       "    }\n",
       "\n",
       "    .dataframe thead th {\n",
       "        text-align: right;\n",
       "    }\n",
       "</style>\n",
       "<table border=\"1\" class=\"dataframe\">\n",
       "  <thead>\n",
       "    <tr style=\"text-align: right;\">\n",
       "      <th></th>\n",
       "      <th>title</th>\n",
       "      <th>selftext</th>\n",
       "      <th>subreddit</th>\n",
       "      <th>created_utc</th>\n",
       "    </tr>\n",
       "  </thead>\n",
       "  <tbody>\n",
       "    <tr>\n",
       "      <th>0</th>\n",
       "      <td>Elon Musk considering bringing in partners on ...</td>\n",
       "      <td></td>\n",
       "      <td>news</td>\n",
       "      <td>1650063255</td>\n",
       "    </tr>\n",
       "    <tr>\n",
       "      <th>1</th>\n",
       "      <td>Elon Musk was born rich (“We were very wealthy...</td>\n",
       "      <td></td>\n",
       "      <td>news</td>\n",
       "      <td>1650060153</td>\n",
       "    </tr>\n",
       "    <tr>\n",
       "      <th>2</th>\n",
       "      <td>Elon Musk Offers to Buy Twitter for USD 41 Bil...</td>\n",
       "      <td></td>\n",
       "      <td>news</td>\n",
       "      <td>1650055971</td>\n",
       "    </tr>\n",
       "    <tr>\n",
       "      <th>3</th>\n",
       "      <td>Twitter Counters a Musk Takeover With a Plan t...</td>\n",
       "      <td></td>\n",
       "      <td>news</td>\n",
       "      <td>1650051151</td>\n",
       "    </tr>\n",
       "    <tr>\n",
       "      <th>4</th>\n",
       "      <td>Twitter adopts ‘poison pill’ plan to shield it...</td>\n",
       "      <td></td>\n",
       "      <td>news</td>\n",
       "      <td>1650047300</td>\n",
       "    </tr>\n",
       "    <tr>\n",
       "      <th>...</th>\n",
       "      <td>...</td>\n",
       "      <td>...</td>\n",
       "      <td>...</td>\n",
       "      <td>...</td>\n",
       "    </tr>\n",
       "    <tr>\n",
       "      <th>95</th>\n",
       "      <td>Elon Musk bought a 9% stake in Twitter and got...</td>\n",
       "      <td></td>\n",
       "      <td>news</td>\n",
       "      <td>1649187513</td>\n",
       "    </tr>\n",
       "    <tr>\n",
       "      <th>96</th>\n",
       "      <td>Why Elon Musk Buying Twitter is Bad for YOU</td>\n",
       "      <td></td>\n",
       "      <td>news</td>\n",
       "      <td>1649184364</td>\n",
       "    </tr>\n",
       "    <tr>\n",
       "      <th>97</th>\n",
       "      <td>Elon Musk vs SRK, ask Musk??</td>\n",
       "      <td></td>\n",
       "      <td>news</td>\n",
       "      <td>1649183193</td>\n",
       "    </tr>\n",
       "    <tr>\n",
       "      <th>98</th>\n",
       "      <td>Elon Musk has appointed to the board of direct...</td>\n",
       "      <td></td>\n",
       "      <td>news</td>\n",
       "      <td>1649180939</td>\n",
       "    </tr>\n",
       "    <tr>\n",
       "      <th>99</th>\n",
       "      <td>Elon Musk Appointed To Twitter Board of Directors</td>\n",
       "      <td></td>\n",
       "      <td>news</td>\n",
       "      <td>1649178996</td>\n",
       "    </tr>\n",
       "  </tbody>\n",
       "</table>\n",
       "<p>100 rows × 4 columns</p>\n",
       "</div>"
      ],
      "text/plain": [
       "                                                title selftext subreddit  \\\n",
       "0   Elon Musk considering bringing in partners on ...               news   \n",
       "1   Elon Musk was born rich (“We were very wealthy...               news   \n",
       "2   Elon Musk Offers to Buy Twitter for USD 41 Bil...               news   \n",
       "3   Twitter Counters a Musk Takeover With a Plan t...               news   \n",
       "4   Twitter adopts ‘poison pill’ plan to shield it...               news   \n",
       "..                                                ...      ...       ...   \n",
       "95  Elon Musk bought a 9% stake in Twitter and got...               news   \n",
       "96        Why Elon Musk Buying Twitter is Bad for YOU               news   \n",
       "97                       Elon Musk vs SRK, ask Musk??               news   \n",
       "98  Elon Musk has appointed to the board of direct...               news   \n",
       "99  Elon Musk Appointed To Twitter Board of Directors               news   \n",
       "\n",
       "    created_utc  \n",
       "0    1650063255  \n",
       "1    1650060153  \n",
       "2    1650055971  \n",
       "3    1650051151  \n",
       "4    1650047300  \n",
       "..          ...  \n",
       "95   1649187513  \n",
       "96   1649184364  \n",
       "97   1649183193  \n",
       "98   1649180939  \n",
       "99   1649178996  \n",
       "\n",
       "[100 rows x 4 columns]"
      ]
     },
     "execution_count": 13,
     "metadata": {},
     "output_type": "execute_result"
    }
   ],
   "source": [
    "posts[['title', 'selftext', 'subreddit', 'created_utc']]"
   ]
  },
  {
   "cell_type": "code",
   "execution_count": 14,
   "id": "7d0414d8",
   "metadata": {},
   "outputs": [
    {
     "data": {
      "text/plain": [
       "0     True\n",
       "1     True\n",
       "2     True\n",
       "3     True\n",
       "4     True\n",
       "      ... \n",
       "95    True\n",
       "96    True\n",
       "97    True\n",
       "98    True\n",
       "99    True\n",
       "Name: created_utc, Length: 100, dtype: bool"
      ]
     },
     "execution_count": 14,
     "metadata": {},
     "output_type": "execute_result"
    }
   ],
   "source": [
    "# Making sure they are properly sorted\n",
    "posts['created_utc'] == posts['created_utc'].sort_values(ascending=False)"
   ]
  },
  {
   "cell_type": "markdown",
   "id": "282f5a88",
   "metadata": {},
   "source": [
    "### Searching for Elon Musk in the news\n",
    "We want to see which words on Reddit are associated with Elon Musk.  This is part of the EDA"
   ]
  },
  {
   "cell_type": "code",
   "execution_count": 15,
   "id": "697af039",
   "metadata": {},
   "outputs": [],
   "source": [
    "dfs = []\n",
    "    \n",
    "for i in range(20):\n",
    "    #print(subreddit, i)\n",
    "        \n",
    "    params = {'subreddit':'news', 'q':'Musk', 'size': 100}\n",
    "    \n",
    "    if i != 0:\n",
    "        params['before'] = lasttime\n",
    "        \n",
    "    res = requests.get(url, params = params)              \n",
    "    data = res.json()                                              \n",
    "    new_post=pd.DataFrame(data['data'])\n",
    "    dfs.append(new_post)\n",
    "    lasttime = new_post['created_utc'].values[-1]\n",
    "    params['before'] = lasttime\n",
    "        \n",
    "    time.sleep(3)                                      \n",
    "        \n",
    "full_list = pd.concat(dfs, ignore_index=True)"
   ]
  },
  {
   "cell_type": "code",
   "execution_count": 16,
   "id": "c6b09616",
   "metadata": {},
   "outputs": [
    {
     "data": {
      "text/plain": [
       "(1998, 75)"
      ]
     },
     "execution_count": 16,
     "metadata": {},
     "output_type": "execute_result"
    }
   ],
   "source": [
    "# Checking the output\n",
    "full_list.shape"
   ]
  },
  {
   "cell_type": "code",
   "execution_count": 17,
   "id": "61b2ed03",
   "metadata": {},
   "outputs": [],
   "source": [
    "# Keeping the columns I need for now\n",
    "full_list_drop = full_list[['title', 'author', 'selftext', 'subreddit', 'created_utc']]"
   ]
  },
  {
   "cell_type": "code",
   "execution_count": 18,
   "id": "d5abc606",
   "metadata": {},
   "outputs": [
    {
     "data": {
      "text/html": [
       "<div>\n",
       "<style scoped>\n",
       "    .dataframe tbody tr th:only-of-type {\n",
       "        vertical-align: middle;\n",
       "    }\n",
       "\n",
       "    .dataframe tbody tr th {\n",
       "        vertical-align: top;\n",
       "    }\n",
       "\n",
       "    .dataframe thead th {\n",
       "        text-align: right;\n",
       "    }\n",
       "</style>\n",
       "<table border=\"1\" class=\"dataframe\">\n",
       "  <thead>\n",
       "    <tr style=\"text-align: right;\">\n",
       "      <th></th>\n",
       "      <th>title</th>\n",
       "      <th>author</th>\n",
       "      <th>selftext</th>\n",
       "      <th>subreddit</th>\n",
       "      <th>created_utc</th>\n",
       "    </tr>\n",
       "  </thead>\n",
       "  <tbody>\n",
       "    <tr>\n",
       "      <th>0</th>\n",
       "      <td>Elon Musk considering bringing in partners on ...</td>\n",
       "      <td>ajenn22</td>\n",
       "      <td></td>\n",
       "      <td>news</td>\n",
       "      <td>1650063255</td>\n",
       "    </tr>\n",
       "    <tr>\n",
       "      <th>1</th>\n",
       "      <td>Elon Musk was born rich (“We were very wealthy...</td>\n",
       "      <td>mrkuta</td>\n",
       "      <td></td>\n",
       "      <td>news</td>\n",
       "      <td>1650060153</td>\n",
       "    </tr>\n",
       "  </tbody>\n",
       "</table>\n",
       "</div>"
      ],
      "text/plain": [
       "                                               title   author selftext  \\\n",
       "0  Elon Musk considering bringing in partners on ...  ajenn22            \n",
       "1  Elon Musk was born rich (“We were very wealthy...   mrkuta            \n",
       "\n",
       "  subreddit  created_utc  \n",
       "0      news   1650063255  \n",
       "1      news   1650060153  "
      ]
     },
     "execution_count": 18,
     "metadata": {},
     "output_type": "execute_result"
    }
   ],
   "source": [
    "# Checking the list\n",
    "full_list_drop.head(2)"
   ]
  },
  {
   "cell_type": "code",
   "execution_count": 19,
   "id": "9a438624",
   "metadata": {},
   "outputs": [
    {
     "data": {
      "text/plain": [
       "1997    1579041078\n",
       "1996    1579229114\n",
       "1995    1579592307\n",
       "1994    1579663948\n",
       "1993    1579709460\n",
       "           ...    \n",
       "4       1650047300\n",
       "3       1650051151\n",
       "2       1650055971\n",
       "1       1650060153\n",
       "0       1650063255\n",
       "Name: created_utc, Length: 1998, dtype: int64"
      ]
     },
     "execution_count": 19,
     "metadata": {},
     "output_type": "execute_result"
    }
   ],
   "source": [
    "# Making sure I don't have duplicates in the utc columns.  \n",
    "# This way I know I have not imported the same reddits multiple times \n",
    "full_list_drop['created_utc'].sort_values()"
   ]
  },
  {
   "cell_type": "code",
   "execution_count": 20,
   "id": "66e00354",
   "metadata": {},
   "outputs": [],
   "source": [
    "# Dropping duplicates I Don't see, if any.\n",
    "full_list_drop = full_list_drop.drop_duplicates(subset=['created_utc'])"
   ]
  },
  {
   "cell_type": "code",
   "execution_count": 21,
   "id": "0f7ed9be",
   "metadata": {},
   "outputs": [
    {
     "data": {
      "text/plain": [
       "(1995, 5)"
      ]
     },
     "execution_count": 21,
     "metadata": {},
     "output_type": "execute_result"
    }
   ],
   "source": [
    "full_list_drop.shape"
   ]
  },
  {
   "cell_type": "code",
   "execution_count": 22,
   "id": "d5e666e5",
   "metadata": {},
   "outputs": [
    {
     "data": {
      "text/html": [
       "<div>\n",
       "<style scoped>\n",
       "    .dataframe tbody tr th:only-of-type {\n",
       "        vertical-align: middle;\n",
       "    }\n",
       "\n",
       "    .dataframe tbody tr th {\n",
       "        vertical-align: top;\n",
       "    }\n",
       "\n",
       "    .dataframe thead th {\n",
       "        text-align: right;\n",
       "    }\n",
       "</style>\n",
       "<table border=\"1\" class=\"dataframe\">\n",
       "  <thead>\n",
       "    <tr style=\"text-align: right;\">\n",
       "      <th></th>\n",
       "      <th>title</th>\n",
       "      <th>author</th>\n",
       "      <th>selftext</th>\n",
       "      <th>subreddit</th>\n",
       "      <th>created_utc</th>\n",
       "    </tr>\n",
       "  </thead>\n",
       "  <tbody>\n",
       "    <tr>\n",
       "      <th>0</th>\n",
       "      <td>Elon Musk considering bringing in partners on ...</td>\n",
       "      <td>ajenn22</td>\n",
       "      <td></td>\n",
       "      <td>news</td>\n",
       "      <td>1650063255</td>\n",
       "    </tr>\n",
       "    <tr>\n",
       "      <th>1</th>\n",
       "      <td>Elon Musk was born rich (“We were very wealthy...</td>\n",
       "      <td>mrkuta</td>\n",
       "      <td></td>\n",
       "      <td>news</td>\n",
       "      <td>1650060153</td>\n",
       "    </tr>\n",
       "    <tr>\n",
       "      <th>2</th>\n",
       "      <td>Elon Musk Offers to Buy Twitter for USD 41 Bil...</td>\n",
       "      <td>ArifSagar</td>\n",
       "      <td></td>\n",
       "      <td>news</td>\n",
       "      <td>1650055971</td>\n",
       "    </tr>\n",
       "    <tr>\n",
       "      <th>3</th>\n",
       "      <td>Twitter Counters a Musk Takeover With a Plan t...</td>\n",
       "      <td>MichaelHallerJr</td>\n",
       "      <td></td>\n",
       "      <td>news</td>\n",
       "      <td>1650051151</td>\n",
       "    </tr>\n",
       "    <tr>\n",
       "      <th>4</th>\n",
       "      <td>Twitter adopts ‘poison pill’ plan to shield it...</td>\n",
       "      <td>AreAnyGoodNamesLeft</td>\n",
       "      <td></td>\n",
       "      <td>news</td>\n",
       "      <td>1650047300</td>\n",
       "    </tr>\n",
       "    <tr>\n",
       "      <th>...</th>\n",
       "      <td>...</td>\n",
       "      <td>...</td>\n",
       "      <td>...</td>\n",
       "      <td>...</td>\n",
       "      <td>...</td>\n",
       "    </tr>\n",
       "    <tr>\n",
       "      <th>1993</th>\n",
       "      <td>Donald Trump says Elon Musk ‘does good at rock...</td>\n",
       "      <td>ntp_throwaway</td>\n",
       "      <td></td>\n",
       "      <td>news</td>\n",
       "      <td>1579709460</td>\n",
       "    </tr>\n",
       "    <tr>\n",
       "      <th>1994</th>\n",
       "      <td>Elon Musk can have SpaceX. We'll visit the ISS...</td>\n",
       "      <td>Mu-Fee</td>\n",
       "      <td></td>\n",
       "      <td>news</td>\n",
       "      <td>1579663948</td>\n",
       "    </tr>\n",
       "    <tr>\n",
       "      <th>1995</th>\n",
       "      <td>@rokambola : El precio de vivir en el Marte de...</td>\n",
       "      <td>Kleinero</td>\n",
       "      <td></td>\n",
       "      <td>news</td>\n",
       "      <td>1579592307</td>\n",
       "    </tr>\n",
       "    <tr>\n",
       "      <th>1996</th>\n",
       "      <td>Jack Dorsey Asks Elon Musk How to Fix Twitter</td>\n",
       "      <td>jimmyolsenblues</td>\n",
       "      <td></td>\n",
       "      <td>news</td>\n",
       "      <td>1579229114</td>\n",
       "    </tr>\n",
       "    <tr>\n",
       "      <th>1997</th>\n",
       "      <td>Tesla stock surge positions Elon Musk for $346...</td>\n",
       "      <td>Andishen</td>\n",
       "      <td></td>\n",
       "      <td>news</td>\n",
       "      <td>1579041078</td>\n",
       "    </tr>\n",
       "  </tbody>\n",
       "</table>\n",
       "<p>1995 rows × 5 columns</p>\n",
       "</div>"
      ],
      "text/plain": [
       "                                                  title               author  \\\n",
       "0     Elon Musk considering bringing in partners on ...              ajenn22   \n",
       "1     Elon Musk was born rich (“We were very wealthy...               mrkuta   \n",
       "2     Elon Musk Offers to Buy Twitter for USD 41 Bil...            ArifSagar   \n",
       "3     Twitter Counters a Musk Takeover With a Plan t...      MichaelHallerJr   \n",
       "4     Twitter adopts ‘poison pill’ plan to shield it...  AreAnyGoodNamesLeft   \n",
       "...                                                 ...                  ...   \n",
       "1993  Donald Trump says Elon Musk ‘does good at rock...        ntp_throwaway   \n",
       "1994  Elon Musk can have SpaceX. We'll visit the ISS...               Mu-Fee   \n",
       "1995  @rokambola : El precio de vivir en el Marte de...             Kleinero   \n",
       "1996      Jack Dorsey Asks Elon Musk How to Fix Twitter      jimmyolsenblues   \n",
       "1997  Tesla stock surge positions Elon Musk for $346...             Andishen   \n",
       "\n",
       "     selftext subreddit  created_utc  \n",
       "0                  news   1650063255  \n",
       "1                  news   1650060153  \n",
       "2                  news   1650055971  \n",
       "3                  news   1650051151  \n",
       "4                  news   1650047300  \n",
       "...       ...       ...          ...  \n",
       "1993               news   1579709460  \n",
       "1994               news   1579663948  \n",
       "1995               news   1579592307  \n",
       "1996               news   1579229114  \n",
       "1997               news   1579041078  \n",
       "\n",
       "[1995 rows x 5 columns]"
      ]
     },
     "execution_count": 22,
     "metadata": {},
     "output_type": "execute_result"
    }
   ],
   "source": [
    "# Renaming the dataframe with a shorter name\n",
    "df = full_list_drop\n",
    "df"
   ]
  },
  {
   "cell_type": "code",
   "execution_count": 23,
   "id": "a9dcb77b",
   "metadata": {},
   "outputs": [],
   "source": [
    "# Exporting to a new file so I don't have to run the cell above each time.\n",
    "df.to_csv('nlp_export.csv')"
   ]
  },
  {
   "cell_type": "markdown",
   "id": "f6298328",
   "metadata": {},
   "source": [
    "### EDA for news on Elon Musk"
   ]
  },
  {
   "cell_type": "code",
   "execution_count": 24,
   "id": "781276be",
   "metadata": {},
   "outputs": [],
   "source": [
    "X = df['title']"
   ]
  },
  {
   "cell_type": "code",
   "execution_count": 25,
   "id": "e102f19f",
   "metadata": {},
   "outputs": [],
   "source": [
    "# initiate\n",
    "cvec = CountVectorizer(stop_words='english')"
   ]
  },
  {
   "cell_type": "code",
   "execution_count": 26,
   "id": "d5685ccb",
   "metadata": {},
   "outputs": [
    {
     "data": {
      "text/plain": [
       "CountVectorizer(stop_words='english')"
      ]
     },
     "execution_count": 26,
     "metadata": {},
     "output_type": "execute_result"
    }
   ],
   "source": [
    "# Fit the vectorizer\n",
    "cvec.fit(X)"
   ]
  },
  {
   "cell_type": "code",
   "execution_count": 27,
   "id": "804ac56e",
   "metadata": {},
   "outputs": [],
   "source": [
    "# Transform X\n",
    "X_vec = cvec.transform(X)"
   ]
  },
  {
   "cell_type": "code",
   "execution_count": 28,
   "id": "52895d47",
   "metadata": {},
   "outputs": [],
   "source": [
    "# Convert to new dataframe\n",
    "df_X_vec = pd.DataFrame(X_vec.todense(), columns=cvec.get_feature_names())"
   ]
  },
  {
   "cell_type": "code",
   "execution_count": 29,
   "id": "aff33e9f",
   "metadata": {},
   "outputs": [
    {
     "data": {
      "text/html": [
       "<div>\n",
       "<style scoped>\n",
       "    .dataframe tbody tr th:only-of-type {\n",
       "        vertical-align: middle;\n",
       "    }\n",
       "\n",
       "    .dataframe tbody tr th {\n",
       "        vertical-align: top;\n",
       "    }\n",
       "\n",
       "    .dataframe thead th {\n",
       "        text-align: right;\n",
       "    }\n",
       "</style>\n",
       "<table border=\"1\" class=\"dataframe\">\n",
       "  <thead>\n",
       "    <tr style=\"text-align: right;\">\n",
       "      <th></th>\n",
       "      <th>000</th>\n",
       "      <th>01</th>\n",
       "      <th>02</th>\n",
       "      <th>05b</th>\n",
       "      <th>06</th>\n",
       "      <th>07</th>\n",
       "      <th>08</th>\n",
       "      <th>10</th>\n",
       "      <th>100</th>\n",
       "      <th>1000</th>\n",
       "      <th>...</th>\n",
       "      <th>शन</th>\n",
       "      <th>सऐप</th>\n",
       "      <th>सकत</th>\n",
       "      <th>सद</th>\n",
       "      <th>सबस</th>\n",
       "      <th>सभ</th>\n",
       "      <th>सर</th>\n",
       "      <th>हफ</th>\n",
       "      <th>हम</th>\n",
       "      <th>हस</th>\n",
       "    </tr>\n",
       "  </thead>\n",
       "  <tbody>\n",
       "    <tr>\n",
       "      <th>0</th>\n",
       "      <td>0</td>\n",
       "      <td>0</td>\n",
       "      <td>0</td>\n",
       "      <td>0</td>\n",
       "      <td>0</td>\n",
       "      <td>0</td>\n",
       "      <td>0</td>\n",
       "      <td>0</td>\n",
       "      <td>0</td>\n",
       "      <td>0</td>\n",
       "      <td>...</td>\n",
       "      <td>0</td>\n",
       "      <td>0</td>\n",
       "      <td>0</td>\n",
       "      <td>0</td>\n",
       "      <td>0</td>\n",
       "      <td>0</td>\n",
       "      <td>0</td>\n",
       "      <td>0</td>\n",
       "      <td>0</td>\n",
       "      <td>0</td>\n",
       "    </tr>\n",
       "    <tr>\n",
       "      <th>1</th>\n",
       "      <td>0</td>\n",
       "      <td>0</td>\n",
       "      <td>0</td>\n",
       "      <td>0</td>\n",
       "      <td>0</td>\n",
       "      <td>0</td>\n",
       "      <td>0</td>\n",
       "      <td>0</td>\n",
       "      <td>0</td>\n",
       "      <td>0</td>\n",
       "      <td>...</td>\n",
       "      <td>0</td>\n",
       "      <td>0</td>\n",
       "      <td>0</td>\n",
       "      <td>0</td>\n",
       "      <td>0</td>\n",
       "      <td>0</td>\n",
       "      <td>0</td>\n",
       "      <td>0</td>\n",
       "      <td>0</td>\n",
       "      <td>0</td>\n",
       "    </tr>\n",
       "  </tbody>\n",
       "</table>\n",
       "<p>2 rows × 3706 columns</p>\n",
       "</div>"
      ],
      "text/plain": [
       "   000  01  02  05b  06  07  08  10  100  1000  ...  शन  सऐप  सकत  सद  सबस  \\\n",
       "0    0   0   0    0   0   0   0   0    0     0  ...   0    0    0   0    0   \n",
       "1    0   0   0    0   0   0   0   0    0     0  ...   0    0    0   0    0   \n",
       "\n",
       "   सभ  सर  हफ  हम  हस  \n",
       "0   0   0   0   0   0  \n",
       "1   0   0   0   0   0  \n",
       "\n",
       "[2 rows x 3706 columns]"
      ]
     },
     "execution_count": 29,
     "metadata": {},
     "output_type": "execute_result"
    }
   ],
   "source": [
    "df_X_vec.head(2)"
   ]
  },
  {
   "cell_type": "code",
   "execution_count": 30,
   "id": "3152da44",
   "metadata": {},
   "outputs": [
    {
     "data": {
      "text/plain": [
       "musk       2049\n",
       "elon       1822\n",
       "tesla       601\n",
       "twitter     281\n",
       "says        273\n",
       "world       181\n",
       "richest     168\n",
       "bezos       147\n",
       "billion     134\n",
       "bitcoin     126\n",
       "person      124\n",
       "jeff        115\n",
       "spacex      109\n",
       "gates       104\n",
       "ceo          97\n",
       "dtype: int64"
      ]
     },
     "execution_count": 30,
     "metadata": {},
     "output_type": "execute_result"
    }
   ],
   "source": [
    "# Top 15 words\n",
    "df_X_vec.sum().sort_values(ascending=False).head(15)"
   ]
  },
  {
   "cell_type": "code",
   "execution_count": 31,
   "id": "ef1e8c00",
   "metadata": {},
   "outputs": [
    {
     "data": {
      "image/png": "[encoded data removed]",
      "text/plain": [
       "<Figure size 720x720 with 1 Axes>"
      ]
     },
     "metadata": {
      "needs_background": "light"
     },
     "output_type": "display_data"
    }
   ],
   "source": [
    "plt.figure(figsize=(10, 10))\n",
    "plt.title('Top 15 Most Common Words', fontsize=14)\n",
    "df_X_vec.sum().sort_values(ascending=False).head(15).plot(kind='barh')\n",
    "plt.ylabel('Word', fontsize=12)\n",
    "plt.xlabel('Count', fontsize=12)\n",
    "plt.savefig('pictures/news.png', bbox_inches='tight');"
   ]
  },
  {
   "cell_type": "code",
   "execution_count": 32,
   "id": "d9a47d1c",
   "metadata": {},
   "outputs": [
    {
     "data": {
      "image/png": "[encoded data removed]",
      "text/plain": [
       "<Figure size 720x720 with 1 Axes>"
      ]
     },
     "metadata": {
      "needs_background": "light"
     },
     "output_type": "display_data"
    }
   ],
   "source": [
    "# same data as above, different representation.\n",
    "plt.figure(figsize=(10, 10))\n",
    "plt.title('Top 15 Most Common Words', fontsize=14)\n",
    "df_X_vec.sum().sort_values(ascending=False).head(15).plot(kind='bar')\n",
    "plt.ylabel('Count', fontsize=12),\n",
    "plt.xlabel('Word', fontsize=12)\n",
    "plt.savefig('pictures/news2.png', bbox_inches='tight');"
   ]
  },
  {
   "cell_type": "code",
   "execution_count": null,
   "id": "7bf7d7a9",
   "metadata": {},
   "outputs": [],
   "source": []
  }
 ],
 "metadata": {
  "kernelspec": {
   "display_name": "Python 3",
   "language": "python",
   "name": "python3"
  },
  "language_info": {
   "codemirror_mode": {
    "name": "ipython",
    "version": 3
   },
   "file_extension": ".py",
   "mimetype": "text/x-python",
   "name": "python",
   "nbconvert_exporter": "python",
   "pygments_lexer": "ipython3",
   "version": "3.8.8"
  }
 },
 "nbformat": 4,
 "nbformat_minor": 5
}
