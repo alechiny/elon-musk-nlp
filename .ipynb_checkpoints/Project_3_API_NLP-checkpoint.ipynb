{
 "cells": [
  {
   "cell_type": "markdown",
   "id": "f7a50ac3",
   "metadata": {},
   "source": [
    "### Import libraries and files"
   ]
  },
  {
   "cell_type": "code",
   "execution_count": 1,
   "id": "48ba734f",
   "metadata": {},
   "outputs": [],
   "source": [
    "import pandas as pd\n",
    "import numpy as np\n",
    "import requests\n",
    "import time\n",
    "import matplotlib.pyplot as plt\n",
    "import seaborn as sns\n",
    "import sklearn.metrics as metrics\n",
    "\n",
    "from sklearn.model_selection import train_test_split, GridSearchCV, cross_val_score\n",
    "from sklearn.feature_extraction.text import CountVectorizer, TfidfVectorizer\n",
    "from sklearn.linear_model import LogisticRegression\n",
    "from collections import Counter"
   ]
  },
  {
   "cell_type": "code",
   "execution_count": 2,
   "id": "5b189434",
   "metadata": {},
   "outputs": [],
   "source": [
    "# Create URL\n",
    "url = 'https://api.pushshift.io/reddit/search/submission'"
   ]
  },
  {
   "cell_type": "markdown",
   "id": "2870a50f",
   "metadata": {},
   "source": [
    "### Search for the reddits about Musk's businesses: Tesla and SpaceX\n",
    "In this section I will search the subreddits for both, Tesla and SpaceX.  My research showed that both subreddits are active and and have thousands of posts."
   ]
  },
  {
   "cell_type": "code",
   "execution_count": 5,
   "id": "59a3ab99",
   "metadata": {},
   "outputs": [],
   "source": [
    "subreddits = ['tesla', 'spaceX']\n",
    "dfs = []\n",
    "\n",
    "for subreddit in subreddits:\n",
    "    \n",
    "    for i in range(20):\n",
    "        \n",
    "        params = {'subreddit':subreddit, 'size': 100}\n",
    "        \n",
    "        if i != 0:\n",
    "            params['before'] = last_time2\n",
    "        \n",
    "        res = requests.get(url, params = params)              \n",
    "        data = res.json()                                              \n",
    "        new_list=pd.DataFrame(data['data'])\n",
    "        dfs.append(new_list)\n",
    "        last_time2 = new_list['created_utc'].values[-1]\n",
    "        params['before'] = last_time2     \n",
    "        \n",
    "        time.sleep(3)                                      \n",
    "        \n",
    "space_list = pd.concat(dfs, ignore_index=True)"
   ]
  },
  {
   "cell_type": "code",
   "execution_count": 6,
   "id": "c89bb331",
   "metadata": {},
   "outputs": [
    {
     "data": {
      "text/plain": [
       "(3998, 84)"
      ]
     },
     "execution_count": 6,
     "metadata": {},
     "output_type": "execute_result"
    }
   ],
   "source": [
    "space_list.shape"
   ]
  },
  {
   "cell_type": "markdown",
   "id": "e4771cec",
   "metadata": {},
   "source": [
    "### Data cleaning and EDA"
   ]
  },
  {
   "cell_type": "code",
   "execution_count": 7,
   "id": "b375ebb4",
   "metadata": {},
   "outputs": [
    {
     "data": {
      "text/plain": [
       "1998    1606539651\n",
       "1997    1606611850\n",
       "1996    1606615697\n",
       "1995    1606626424\n",
       "1994    1606668386\n",
       "           ...    \n",
       "0       1650056562\n",
       "2002    1650057725\n",
       "2001    1650058832\n",
       "2000    1650058981\n",
       "1999    1650059441\n",
       "Name: created_utc, Length: 3998, dtype: int64"
      ]
     },
     "execution_count": 7,
     "metadata": {},
     "output_type": "execute_result"
    }
   ],
   "source": [
    "# Checking to make sure I am not pulling the same reddits over and over\n",
    "space_list['created_utc'].sort_values()"
   ]
  },
  {
   "cell_type": "code",
   "execution_count": 8,
   "id": "d1b0f95c",
   "metadata": {},
   "outputs": [],
   "source": [
    "space_list_d = space_list[['title', 'author', 'selftext', 'subreddit', 'created_utc']]"
   ]
  },
  {
   "cell_type": "code",
   "execution_count": 9,
   "id": "7a465664",
   "metadata": {},
   "outputs": [
    {
     "data": {
      "text/plain": [
       "(spacex    1999\n",
       " Tesla     1999\n",
       " Name: subreddit, dtype: int64,\n",
       " spacex    0.5\n",
       " Tesla     0.5\n",
       " Name: subreddit, dtype: float64)"
      ]
     },
     "execution_count": 9,
     "metadata": {},
     "output_type": "execute_result"
    }
   ],
   "source": [
    "space_list_d['subreddit'].value_counts(), space_list_d['subreddit'].value_counts(normalize=True)"
   ]
  },
  {
   "cell_type": "code",
   "execution_count": 10,
   "id": "f485ccef",
   "metadata": {},
   "outputs": [],
   "source": [
    "space_list_d = space_list_d.drop_duplicates(subset=['created_utc'])"
   ]
  },
  {
   "cell_type": "code",
   "execution_count": 11,
   "id": "579a3b58",
   "metadata": {},
   "outputs": [],
   "source": [
    "# removed subreddits = news.  I don't know how they got there but I don't need them\n",
    "space_list_d.drop(space_list_d.index[space_list_d['subreddit'] == 'news'], inplace=True)"
   ]
  },
  {
   "cell_type": "code",
   "execution_count": 12,
   "id": "a4683fec",
   "metadata": {},
   "outputs": [
    {
     "data": {
      "text/plain": [
       "(3997, 5)"
      ]
     },
     "execution_count": 12,
     "metadata": {},
     "output_type": "execute_result"
    }
   ],
   "source": [
    "space_list_d.shape"
   ]
  },
  {
   "cell_type": "code",
   "execution_count": 13,
   "id": "fe87f737",
   "metadata": {},
   "outputs": [
    {
     "data": {
      "text/html": [
       "<div>\n",
       "<style scoped>\n",
       "    .dataframe tbody tr th:only-of-type {\n",
       "        vertical-align: middle;\n",
       "    }\n",
       "\n",
       "    .dataframe tbody tr th {\n",
       "        vertical-align: top;\n",
       "    }\n",
       "\n",
       "    .dataframe thead th {\n",
       "        text-align: right;\n",
       "    }\n",
       "</style>\n",
       "<table border=\"1\" class=\"dataframe\">\n",
       "  <thead>\n",
       "    <tr style=\"text-align: right;\">\n",
       "      <th></th>\n",
       "      <th>title</th>\n",
       "      <th>author</th>\n",
       "      <th>selftext</th>\n",
       "      <th>subreddit</th>\n",
       "      <th>created_utc</th>\n",
       "    </tr>\n",
       "  </thead>\n",
       "  <tbody>\n",
       "    <tr>\n",
       "      <th>0</th>\n",
       "      <td>Elon Musk Offers to Buy Twitter for USD 41 Bil...</td>\n",
       "      <td>[deleted]</td>\n",
       "      <td>[deleted]</td>\n",
       "      <td>Tesla</td>\n",
       "      <td>1650056562</td>\n",
       "    </tr>\n",
       "    <tr>\n",
       "      <th>1</th>\n",
       "      <td>Elon Musk Called Shady By Billionaire for Mark...</td>\n",
       "      <td>alal21</td>\n",
       "      <td></td>\n",
       "      <td>Tesla</td>\n",
       "      <td>1649987519</td>\n",
       "    </tr>\n",
       "    <tr>\n",
       "      <th>2</th>\n",
       "      <td>Just had a Dog Mode Issue in ‘21 MY trigger - ...</td>\n",
       "      <td>AdaptiveSkies</td>\n",
       "      <td></td>\n",
       "      <td>Tesla</td>\n",
       "      <td>1649980575</td>\n",
       "    </tr>\n",
       "    <tr>\n",
       "      <th>3</th>\n",
       "      <td>Idea for Tesla on dealing with Old reservation...</td>\n",
       "      <td>bluepomidor</td>\n",
       "      <td>[removed]</td>\n",
       "      <td>Tesla</td>\n",
       "      <td>1649867431</td>\n",
       "    </tr>\n",
       "    <tr>\n",
       "      <th>4</th>\n",
       "      <td>Tesla nose</td>\n",
       "      <td>yayabao</td>\n",
       "      <td></td>\n",
       "      <td>Tesla</td>\n",
       "      <td>1649861853</td>\n",
       "    </tr>\n",
       "  </tbody>\n",
       "</table>\n",
       "</div>"
      ],
      "text/plain": [
       "                                               title         author  \\\n",
       "0  Elon Musk Offers to Buy Twitter for USD 41 Bil...      [deleted]   \n",
       "1  Elon Musk Called Shady By Billionaire for Mark...         alal21   \n",
       "2  Just had a Dog Mode Issue in ‘21 MY trigger - ...  AdaptiveSkies   \n",
       "3  Idea for Tesla on dealing with Old reservation...    bluepomidor   \n",
       "4                                         Tesla nose        yayabao   \n",
       "\n",
       "    selftext subreddit  created_utc  \n",
       "0  [deleted]     Tesla   1650056562  \n",
       "1                Tesla   1649987519  \n",
       "2                Tesla   1649980575  \n",
       "3  [removed]     Tesla   1649867431  \n",
       "4                Tesla   1649861853  "
      ]
     },
     "execution_count": 13,
     "metadata": {},
     "output_type": "execute_result"
    }
   ],
   "source": [
    "space_list_d.head()"
   ]
  },
  {
   "cell_type": "code",
   "execution_count": 15,
   "id": "60182ab6",
   "metadata": {},
   "outputs": [
    {
     "data": {
      "text/plain": [
       "spacex    0.500125\n",
       "Tesla     0.499875\n",
       "Name: subreddit, dtype: float64"
      ]
     },
     "execution_count": 15,
     "metadata": {},
     "output_type": "execute_result"
    }
   ],
   "source": [
    "# Checking the distribution of both searches\n",
    "space_list_d['subreddit'].value_counts(normalize=True)"
   ]
  },
  {
   "cell_type": "code",
   "execution_count": 17,
   "id": "53f9985a",
   "metadata": {},
   "outputs": [],
   "source": [
    "#Renaming the dataset\n",
    "df2 = space_list_d"
   ]
  },
  {
   "cell_type": "code",
   "execution_count": 18,
   "id": "1769216b",
   "metadata": {},
   "outputs": [
    {
     "data": {
      "text/html": [
       "<div>\n",
       "<style scoped>\n",
       "    .dataframe tbody tr th:only-of-type {\n",
       "        vertical-align: middle;\n",
       "    }\n",
       "\n",
       "    .dataframe tbody tr th {\n",
       "        vertical-align: top;\n",
       "    }\n",
       "\n",
       "    .dataframe thead th {\n",
       "        text-align: right;\n",
       "    }\n",
       "</style>\n",
       "<table border=\"1\" class=\"dataframe\">\n",
       "  <thead>\n",
       "    <tr style=\"text-align: right;\">\n",
       "      <th></th>\n",
       "      <th>title</th>\n",
       "      <th>author</th>\n",
       "      <th>selftext</th>\n",
       "      <th>subreddit</th>\n",
       "      <th>created_utc</th>\n",
       "    </tr>\n",
       "  </thead>\n",
       "  <tbody>\n",
       "    <tr>\n",
       "      <th>0</th>\n",
       "      <td>Elon Musk Offers to Buy Twitter for USD 41 Bil...</td>\n",
       "      <td>[deleted]</td>\n",
       "      <td>[deleted]</td>\n",
       "      <td>Tesla</td>\n",
       "      <td>1650056562</td>\n",
       "    </tr>\n",
       "    <tr>\n",
       "      <th>1</th>\n",
       "      <td>Elon Musk Called Shady By Billionaire for Mark...</td>\n",
       "      <td>alal21</td>\n",
       "      <td></td>\n",
       "      <td>Tesla</td>\n",
       "      <td>1649987519</td>\n",
       "    </tr>\n",
       "  </tbody>\n",
       "</table>\n",
       "</div>"
      ],
      "text/plain": [
       "                                               title     author   selftext  \\\n",
       "0  Elon Musk Offers to Buy Twitter for USD 41 Bil...  [deleted]  [deleted]   \n",
       "1  Elon Musk Called Shady By Billionaire for Mark...     alal21              \n",
       "\n",
       "  subreddit  created_utc  \n",
       "0     Tesla   1650056562  \n",
       "1     Tesla   1649987519  "
      ]
     },
     "execution_count": 18,
     "metadata": {},
     "output_type": "execute_result"
    }
   ],
   "source": [
    "df2.head(2)"
   ]
  },
  {
   "cell_type": "code",
   "execution_count": 19,
   "id": "41ec28ef",
   "metadata": {},
   "outputs": [],
   "source": [
    "# Exporting to a new file so I don't have to run the cell above each time.\n",
    "df2.to_csv('space_list.csv')"
   ]
  },
  {
   "cell_type": "code",
   "execution_count": 20,
   "id": "5f91e071",
   "metadata": {},
   "outputs": [
    {
     "data": {
      "text/plain": [
       "title           0\n",
       "author          0\n",
       "selftext       22\n",
       "subreddit       0\n",
       "created_utc     0\n",
       "dtype: int64"
      ]
     },
     "execution_count": 20,
     "metadata": {},
     "output_type": "execute_result"
    }
   ],
   "source": [
    "#Checking for NaN\n",
    "# there are very few NaNs in a columns I will not need for my models.\n",
    "# I will not remove them.\n",
    "df2.isnull().sum()"
   ]
  },
  {
   "cell_type": "code",
   "execution_count": 22,
   "id": "76c1b3d1",
   "metadata": {},
   "outputs": [
    {
     "data": {
      "text/plain": [
       "[deleted]            86\n",
       "ElongatedMuskrat     60\n",
       "CProphet             57\n",
       "rohitgupta010        25\n",
       "freedemocracy2021    25\n",
       "                     ..\n",
       "AlfonsoBryant10       1\n",
       "jesperCOJE            1\n",
       "gerrykomalaysia22     1\n",
       "Curtley1995           1\n",
       "spawnofnasty          1\n",
       "Name: author, Length: 2934, dtype: int64"
      ]
     },
     "execution_count": 22,
     "metadata": {},
     "output_type": "execute_result"
    }
   ],
   "source": [
    "# Checking to see how many multiple posts there are.\n",
    "# It's normal to post more than once, since I am not doing a personality test where it's important\n",
    "# not to have duplicates I will leave them.\n",
    "df2['author'].value_counts()"
   ]
  },
  {
   "cell_type": "markdown",
   "id": "c79b2e4f",
   "metadata": {},
   "source": [
    "### More EDA"
   ]
  },
  {
   "cell_type": "code",
   "execution_count": 23,
   "id": "fc1fefa4",
   "metadata": {},
   "outputs": [],
   "source": [
    "# Create the label column\n",
    "df2['subreddit'] = df2['subreddit'].map({'spacex':1, 'Tesla':0 })"
   ]
  },
  {
   "cell_type": "code",
   "execution_count": 24,
   "id": "2cdade83",
   "metadata": {},
   "outputs": [
    {
     "data": {
      "text/html": [
       "<div>\n",
       "<style scoped>\n",
       "    .dataframe tbody tr th:only-of-type {\n",
       "        vertical-align: middle;\n",
       "    }\n",
       "\n",
       "    .dataframe tbody tr th {\n",
       "        vertical-align: top;\n",
       "    }\n",
       "\n",
       "    .dataframe thead th {\n",
       "        text-align: right;\n",
       "    }\n",
       "</style>\n",
       "<table border=\"1\" class=\"dataframe\">\n",
       "  <thead>\n",
       "    <tr style=\"text-align: right;\">\n",
       "      <th></th>\n",
       "      <th>title</th>\n",
       "      <th>author</th>\n",
       "      <th>selftext</th>\n",
       "      <th>subreddit</th>\n",
       "      <th>created_utc</th>\n",
       "    </tr>\n",
       "  </thead>\n",
       "  <tbody>\n",
       "    <tr>\n",
       "      <th>0</th>\n",
       "      <td>Elon Musk Offers to Buy Twitter for USD 41 Bil...</td>\n",
       "      <td>[deleted]</td>\n",
       "      <td>[deleted]</td>\n",
       "      <td>0</td>\n",
       "      <td>1650056562</td>\n",
       "    </tr>\n",
       "    <tr>\n",
       "      <th>1</th>\n",
       "      <td>Elon Musk Called Shady By Billionaire for Mark...</td>\n",
       "      <td>alal21</td>\n",
       "      <td></td>\n",
       "      <td>0</td>\n",
       "      <td>1649987519</td>\n",
       "    </tr>\n",
       "    <tr>\n",
       "      <th>2</th>\n",
       "      <td>Just had a Dog Mode Issue in ‘21 MY trigger - ...</td>\n",
       "      <td>AdaptiveSkies</td>\n",
       "      <td></td>\n",
       "      <td>0</td>\n",
       "      <td>1649980575</td>\n",
       "    </tr>\n",
       "    <tr>\n",
       "      <th>3</th>\n",
       "      <td>Idea for Tesla on dealing with Old reservation...</td>\n",
       "      <td>bluepomidor</td>\n",
       "      <td>[removed]</td>\n",
       "      <td>0</td>\n",
       "      <td>1649867431</td>\n",
       "    </tr>\n",
       "    <tr>\n",
       "      <th>4</th>\n",
       "      <td>Tesla nose</td>\n",
       "      <td>yayabao</td>\n",
       "      <td></td>\n",
       "      <td>0</td>\n",
       "      <td>1649861853</td>\n",
       "    </tr>\n",
       "  </tbody>\n",
       "</table>\n",
       "</div>"
      ],
      "text/plain": [
       "                                               title         author  \\\n",
       "0  Elon Musk Offers to Buy Twitter for USD 41 Bil...      [deleted]   \n",
       "1  Elon Musk Called Shady By Billionaire for Mark...         alal21   \n",
       "2  Just had a Dog Mode Issue in ‘21 MY trigger - ...  AdaptiveSkies   \n",
       "3  Idea for Tesla on dealing with Old reservation...    bluepomidor   \n",
       "4                                         Tesla nose        yayabao   \n",
       "\n",
       "    selftext  subreddit  created_utc  \n",
       "0  [deleted]          0   1650056562  \n",
       "1                     0   1649987519  \n",
       "2                     0   1649980575  \n",
       "3  [removed]          0   1649867431  \n",
       "4                     0   1649861853  "
      ]
     },
     "execution_count": 24,
     "metadata": {},
     "output_type": "execute_result"
    }
   ],
   "source": [
    "df2.head()"
   ]
  },
  {
   "cell_type": "code",
   "execution_count": 25,
   "id": "d6acb532",
   "metadata": {},
   "outputs": [],
   "source": [
    "# Variables\n",
    "X = df2['title']\n",
    "y = df2['subreddit']"
   ]
  },
  {
   "cell_type": "code",
   "execution_count": 26,
   "id": "43c90861",
   "metadata": {},
   "outputs": [
    {
     "data": {
      "text/plain": [
       "1    0.500125\n",
       "0    0.499875\n",
       "Name: subreddit, dtype: float64"
      ]
     },
     "execution_count": 26,
     "metadata": {},
     "output_type": "execute_result"
    }
   ],
   "source": [
    "y.value_counts(normalize=True)"
   ]
  },
  {
   "cell_type": "code",
   "execution_count": 27,
   "id": "7bc0d7f1",
   "metadata": {},
   "outputs": [],
   "source": [
    "# Split the data\n",
    "X_train, X_test, y_train, y_test = train_test_split(X, y, random_state=42)"
   ]
  },
  {
   "cell_type": "code",
   "execution_count": 28,
   "id": "3cc44197",
   "metadata": {},
   "outputs": [],
   "source": [
    "# Instantiate a CountVectorizer\n",
    "cvec = CountVectorizer(stop_words='english')"
   ]
  },
  {
   "cell_type": "code",
   "execution_count": 29,
   "id": "6f84d575",
   "metadata": {},
   "outputs": [
    {
     "data": {
      "text/plain": [
       "CountVectorizer(stop_words='english')"
      ]
     },
     "execution_count": 29,
     "metadata": {},
     "output_type": "execute_result"
    }
   ],
   "source": [
    "# Fit to the corpus\n",
    "cvec.fit(X_train)"
   ]
  },
  {
   "cell_type": "code",
   "execution_count": 30,
   "id": "e87a3517",
   "metadata": {},
   "outputs": [],
   "source": [
    "# Transform the corpus for train X\n",
    "X_train_cvec = cvec.transform(X_train)"
   ]
  },
  {
   "cell_type": "code",
   "execution_count": 31,
   "id": "b6e91f8d",
   "metadata": {},
   "outputs": [],
   "source": [
    "# Transform the corpus of test X\n",
    "X_test_cvec = cvec.transform(X_test)"
   ]
  },
  {
   "cell_type": "code",
   "execution_count": 32,
   "id": "cdabbb86",
   "metadata": {},
   "outputs": [],
   "source": [
    "# Convert to new dataframe\n",
    "df_X_vec = pd.DataFrame(X_train_cvec.todense(), columns=cvec.get_feature_names())"
   ]
  },
  {
   "cell_type": "code",
   "execution_count": 33,
   "id": "e3417c44",
   "metadata": {},
   "outputs": [
    {
     "data": {
      "image/png": "[encoded data removed]",
      "text/plain": [
       "<Figure size 720x720 with 1 Axes>"
      ]
     },
     "metadata": {
      "needs_background": "light"
     },
     "output_type": "display_data"
    }
   ],
   "source": [
    "# Top workds in the reddits\n",
    "plt.figure(figsize=(10, 10))\n",
    "plt.title('Top 15 Most Common Words', fontsize=14)\n",
    "df_X_vec.sum().sort_values(ascending=False).head(10).plot(kind='barh')\n",
    "plt.ylabel('Word', fontsize=12)\n",
    "plt.xlabel('Count', fontsize=12)\n",
    "plt.savefig('pictures/news.png', bbox_inches='tight');"
   ]
  },
  {
   "cell_type": "code",
   "execution_count": 34,
   "id": "aa498f16",
   "metadata": {},
   "outputs": [],
   "source": [
    "# Add the y values to the dataframe so I can compare the two\n",
    "df_X_vec['all_words'] = y_train.values"
   ]
  },
  {
   "cell_type": "code",
   "execution_count": 35,
   "id": "26ed2691",
   "metadata": {},
   "outputs": [
    {
     "data": {
      "text/plain": [
       "<Figure size 720x720 with 0 Axes>"
      ]
     },
     "metadata": {},
     "output_type": "display_data"
    },
    {
     "data": {
      "image/png": "[encoded data removed]",
      "text/plain": [
       "<Figure size 864x432 with 1 Axes>"
      ]
     },
     "metadata": {
      "needs_background": "light"
     },
     "output_type": "display_data"
    }
   ],
   "source": [
    "# barchart for value 0 = Tesla = blue\n",
    "plt.figure(figsize=(10, 10))\n",
    "df_X_vec.groupby('all_words').sum().T.sort_values(0, ascending=False).head(15).sort_values(0).plot(kind='barh', figsize=(12, 6))\n",
    "plt.title('Most Common Word in Tesla compared to SpaceX', fontsize=16)\n",
    "plt.legend(( 'Tesla', 'SpaceX'))\n",
    "plt.ylabel('Words', fontsize=14)\n",
    "plt.xlabel('Count', fontsize=14)\n",
    "plt.savefig('pictures/tesla_vs_spacex.png', bbox_inches='tight');"
   ]
  },
  {
   "cell_type": "code",
   "execution_count": 36,
   "id": "f5d30a2f",
   "metadata": {},
   "outputs": [
    {
     "data": {
      "text/plain": [
       "<Figure size 720x720 with 0 Axes>"
      ]
     },
     "metadata": {},
     "output_type": "display_data"
    },
    {
     "data": {
      "image/png": "[encoded data removed]",
      "text/plain": [
       "<Figure size 864x432 with 1 Axes>"
      ]
     },
     "metadata": {
      "needs_background": "light"
     },
     "output_type": "display_data"
    }
   ],
   "source": [
    "# barchart for value 0 = Tesla = blue\n",
    "plt.figure(figsize=(10, 10))\n",
    "df_X_vec.groupby('all_words').sum().T.sort_values(1, ascending=False).head(15).sort_values(1).plot(kind='barh', figsize=(12, 6))\n",
    "plt.title('Most Common Words in SpaceX Compared to Tesla', fontsize=16)\n",
    "plt.legend(( 'Tesla', 'SpaceX'))\n",
    "plt.ylabel('Words', fontsize=14)\n",
    "plt.xlabel('Count', fontsize=14)\n",
    "plt.savefig('pictures/spacex_vs_tesla.png', bbox_inches='tight');"
   ]
  },
  {
   "cell_type": "markdown",
   "id": "949f130c",
   "metadata": {},
   "source": [
    "### Model 1\n",
    "#### Logistic Regression"
   ]
  },
  {
   "cell_type": "code",
   "execution_count": 50,
   "id": "3a4d2ccd",
   "metadata": {},
   "outputs": [
    {
     "data": {
      "text/plain": [
       "1    0.506507\n",
       "0    0.493493\n",
       "Name: subreddit, dtype: float64"
      ]
     },
     "execution_count": 50,
     "metadata": {},
     "output_type": "execute_result"
    }
   ],
   "source": [
    "# baseline accuracy\n",
    "y_train.value_counts(normalize=True)"
   ]
  },
  {
   "cell_type": "code",
   "execution_count": 51,
   "id": "40f91401",
   "metadata": {},
   "outputs": [
    {
     "data": {
      "text/plain": [
       "LogisticRegression()"
      ]
     },
     "execution_count": 51,
     "metadata": {},
     "output_type": "execute_result"
    }
   ],
   "source": [
    "#Instantiate  model.\n",
    "logreg = LogisticRegression()\n",
    "# Fit model.  Getting the X_train_vec from abovem where I vectorized it\n",
    "logreg.fit(X_train_cvec, y_train)"
   ]
  },
  {
   "cell_type": "code",
   "execution_count": 52,
   "id": "8acc2d9e",
   "metadata": {},
   "outputs": [
    {
     "data": {
      "text/plain": [
       "array([1, 1, 1, ..., 0, 1, 1], dtype=int64)"
      ]
     },
     "execution_count": 52,
     "metadata": {},
     "output_type": "execute_result"
    }
   ],
   "source": [
    "logreg.predict(X_train_cvec)"
   ]
  },
  {
   "cell_type": "code",
   "execution_count": 53,
   "id": "875eac73",
   "metadata": {},
   "outputs": [
    {
     "data": {
      "text/plain": [
       "0.9853186519853186"
      ]
     },
     "execution_count": 53,
     "metadata": {},
     "output_type": "execute_result"
    }
   ],
   "source": [
    "# Evaluate on the train set\n",
    "logreg.score(X_train_cvec, y_train)"
   ]
  },
  {
   "cell_type": "code",
   "execution_count": 54,
   "id": "b86428e3",
   "metadata": {},
   "outputs": [
    {
     "data": {
      "text/plain": [
       "0.921"
      ]
     },
     "execution_count": 54,
     "metadata": {},
     "output_type": "execute_result"
    }
   ],
   "source": [
    "#Evaluate model\n",
    "logreg.score(X_test_cvec, y_test)"
   ]
  },
  {
   "cell_type": "code",
   "execution_count": 55,
   "id": "0044ad19",
   "metadata": {},
   "outputs": [
    {
     "data": {
      "text/plain": [
       "0.8832159154145799"
      ]
     },
     "execution_count": 55,
     "metadata": {},
     "output_type": "execute_result"
    }
   ],
   "source": [
    "# Cross validation score.  We can predict the baseline 91% of the times\n",
    "cross_val_score(logreg, X_train_cvec, y_train).mean()"
   ]
  },
  {
   "cell_type": "code",
   "execution_count": 56,
   "id": "5e562b1b",
   "metadata": {},
   "outputs": [
    {
     "data": {
      "text/plain": [
       "array([[-0.01131122,  0.13802011,  0.21210149, ...,  0.27783617,\n",
       "         0.27783617,  0.27783617]])"
      ]
     },
     "execution_count": 56,
     "metadata": {},
     "output_type": "execute_result"
    }
   ],
   "source": [
    "logreg.coef_"
   ]
  },
  {
   "cell_type": "code",
   "execution_count": 57,
   "id": "fdb6d412",
   "metadata": {},
   "outputs": [],
   "source": [
    "preds = logreg.predict(X_test_cvec)"
   ]
  },
  {
   "cell_type": "code",
   "execution_count": 58,
   "id": "d01a652c",
   "metadata": {},
   "outputs": [
    {
     "data": {
      "text/plain": [
       "array([[495,  24],\n",
       "       [ 55, 426]], dtype=int64)"
      ]
     },
     "execution_count": 58,
     "metadata": {},
     "output_type": "execute_result"
    }
   ],
   "source": [
    "\n",
    "# 0s on top, 1s at the bottom\n",
    "# TN FP       > actuals 0\n",
    "# FN TP       > actual 1\n",
    "metrics.confusion_matrix(y_test, preds)"
   ]
  },
  {
   "cell_type": "code",
   "execution_count": 59,
   "id": "b8b71591",
   "metadata": {},
   "outputs": [
    {
     "data": {
      "image/png": "[encoded data removed]",
      "text/plain": [
       "<Figure size 432x288 with 2 Axes>"
      ]
     },
     "metadata": {
      "needs_background": "light"
     },
     "output_type": "display_data"
    }
   ],
   "source": [
    "metrics.plot_confusion_matrix(logreg, X_test_cvec, y_test, cmap='Blues', \n",
    "                      values_format='d', display_labels=['Tesla', 'SpaceX'])\n",
    "plt.title('Logistic Regression Confusion Matrix', fontsize=16)\n",
    "plt.savefig('pictures/conf_lr.png', bbox_inches='tight');"
   ]
  },
  {
   "cell_type": "code",
   "execution_count": 60,
   "id": "41770829",
   "metadata": {},
   "outputs": [
    {
     "data": {
      "text/plain": [
       "0.9466666666666667"
      ]
     },
     "execution_count": 60,
     "metadata": {},
     "output_type": "execute_result"
    }
   ],
   "source": [
    "# *****Precision tp/(tp+fp). When it predicts yes(postive), how often is it correct?\n",
    "precision = metrics.precision_score(y_test, preds)\n",
    "precision"
   ]
  },
  {
   "cell_type": "code",
   "execution_count": 61,
   "id": "135525c8",
   "metadata": {},
   "outputs": [
    {
     "data": {
      "text/plain": [
       "0.8856548856548857"
      ]
     },
     "execution_count": 61,
     "metadata": {},
     "output_type": "execute_result"
    }
   ],
   "source": [
    "# ****Recall (sensitivity) tp/(tp + fn).  Out of all the positives, what percentage are predicted\n",
    "recall = metrics.recall_score(y_test, preds)\n",
    "recall"
   ]
  },
  {
   "cell_type": "code",
   "execution_count": 62,
   "id": "bf7a8f36",
   "metadata": {},
   "outputs": [
    {
     "data": {
      "text/plain": [
       "0.921"
      ]
     },
     "execution_count": 62,
     "metadata": {},
     "output_type": "execute_result"
    }
   ],
   "source": [
    "# Accuracy (tn + tp)/(tn + tp + fp + fn).  How often is the mode correct?\n",
    "accuracy = metrics.accuracy_score(y_test, preds)\n",
    "accuracy"
   ]
  },
  {
   "cell_type": "code",
   "execution_count": 66,
   "id": "4a85fad4",
   "metadata": {},
   "outputs": [
    {
     "data": {
      "text/plain": [
       "0.953757225433526"
      ]
     },
     "execution_count": 66,
     "metadata": {},
     "output_type": "execute_result"
    }
   ],
   "source": [
    "# Specificity tn/(tn + fp) Of al the negatives what percentage are predicted?\n",
    "495/(495+24)"
   ]
  },
  {
   "cell_type": "code",
   "execution_count": 67,
   "id": "ae3a3f8f",
   "metadata": {},
   "outputs": [
    {
     "data": {
      "text/html": [
       "<div>\n",
       "<style scoped>\n",
       "    .dataframe tbody tr th:only-of-type {\n",
       "        vertical-align: middle;\n",
       "    }\n",
       "\n",
       "    .dataframe tbody tr th {\n",
       "        vertical-align: top;\n",
       "    }\n",
       "\n",
       "    .dataframe thead th {\n",
       "        text-align: right;\n",
       "    }\n",
       "</style>\n",
       "<table border=\"1\" class=\"dataframe\">\n",
       "  <thead>\n",
       "    <tr style=\"text-align: right;\">\n",
       "      <th></th>\n",
       "      <th>true</th>\n",
       "      <th>pred</th>\n",
       "    </tr>\n",
       "  </thead>\n",
       "  <tbody>\n",
       "    <tr>\n",
       "      <th>1761</th>\n",
       "      <td>0</td>\n",
       "      <td>0.575983</td>\n",
       "    </tr>\n",
       "    <tr>\n",
       "      <th>3017</th>\n",
       "      <td>1</td>\n",
       "      <td>0.760460</td>\n",
       "    </tr>\n",
       "    <tr>\n",
       "      <th>1771</th>\n",
       "      <td>0</td>\n",
       "      <td>0.227669</td>\n",
       "    </tr>\n",
       "    <tr>\n",
       "      <th>3704</th>\n",
       "      <td>1</td>\n",
       "      <td>0.986778</td>\n",
       "    </tr>\n",
       "    <tr>\n",
       "      <th>2100</th>\n",
       "      <td>1</td>\n",
       "      <td>0.964160</td>\n",
       "    </tr>\n",
       "  </tbody>\n",
       "</table>\n",
       "</div>"
      ],
      "text/plain": [
       "      true      pred\n",
       "1761     0  0.575983\n",
       "3017     1  0.760460\n",
       "1771     0  0.227669\n",
       "3704     1  0.986778\n",
       "2100     1  0.964160"
      ]
     },
     "execution_count": 67,
     "metadata": {},
     "output_type": "execute_result"
    }
   ],
   "source": [
    "pred_df = pd.DataFrame({'true': y_test,\n",
    "'pred': logreg.predict_proba(X_test_cvec)[:,1\n",
    "]})\n",
    "pred_df.head()"
   ]
  },
  {
   "cell_type": "code",
   "execution_count": 68,
   "id": "88dfe182",
   "metadata": {},
   "outputs": [
    {
     "name": "stderr",
     "output_type": "stream",
     "text": [
      "C:\\Users\\Ale\\anaconda3\\lib\\site-packages\\seaborn\\distributions.py:2557: FutureWarning: `distplot` is a deprecated function and will be removed in a future version. Please adapt your code to use either `displot` (a figure-level function with similar flexibility) or `histplot` (an axes-level function for histograms).\n",
      "  warnings.warn(msg, FutureWarning)\n"
     ]
    },
    {
     "data": {
      "image/png": "[encoded data removed]",
      "text/plain": [
       "<Figure size 576x576 with 1 Axes>"
      ]
     },
     "metadata": {
      "needs_background": "light"
     },
     "output_type": "display_data"
    }
   ],
   "source": [
    "plt.figure(figsize = (8, 8))\n",
    "for group in pred_df.groupby('true'):\n",
    "    sns.distplot(group[1], kde = False, bins = 10, label = f'Actual Outcome = {group[0]}')\n",
    "    plt.title('Logistic Regression Predicted Probability', fontsize=16)\n",
    "    plt.xlabel('Predicted Probability that Outcome = SpaceX')\n",
    "plt.axvline(.5, color = 'red')\n",
    "plt.legend(('0.5','Tesla', 'SpaceX'))\n",
    "plt.savefig('pictures/preds_lr.png', bbox_inches='tight');"
   ]
  },
  {
   "cell_type": "markdown",
   "id": "8203f430",
   "metadata": {},
   "source": [
    "### Model 2\n",
    "#### Decision Trees"
   ]
  },
  {
   "cell_type": "code",
   "execution_count": 77,
   "id": "f465819b",
   "metadata": {},
   "outputs": [],
   "source": [
    "# Import model.\n",
    "from sklearn.tree import DecisionTreeClassifier\n",
    "from sklearn.metrics import confusion_matrix"
   ]
  },
  {
   "cell_type": "code",
   "execution_count": 78,
   "id": "23f01af0",
   "metadata": {},
   "outputs": [],
   "source": [
    "# Instantiate model.\n",
    "dt = DecisionTreeClassifier(random_state=42)"
   ]
  },
  {
   "cell_type": "code",
   "execution_count": 79,
   "id": "3485bcd7",
   "metadata": {},
   "outputs": [
    {
     "data": {
      "text/plain": [
       "DecisionTreeClassifier(random_state=42)"
      ]
     },
     "execution_count": 79,
     "metadata": {},
     "output_type": "execute_result"
    }
   ],
   "source": [
    "# Fit model.\n",
    "dt.fit(X_train_cvec, y_train)"
   ]
  },
  {
   "cell_type": "code",
   "execution_count": 80,
   "id": "17899db0",
   "metadata": {},
   "outputs": [
    {
     "name": "stdout",
     "output_type": "stream",
     "text": [
      "Score on training set: 0.9946613279946613\n",
      "Score on testing set: 0.907\n"
     ]
    }
   ],
   "source": [
    "# Evaluate model.\n",
    "print(f'Score on training set: {dt.score(X_train_cvec, y_train)}')\n",
    "print(f'Score on testing set: {dt.score(X_test_cvec, y_test)}')"
   ]
  },
  {
   "cell_type": "code",
   "execution_count": 81,
   "id": "6c33df1a",
   "metadata": {},
   "outputs": [],
   "source": [
    "# GridSearch to optimize the model\n",
    "\n",
    "grid = {\n",
    "'max_depth': [2, 3, 5, 7],\n",
    "'min_samples_split': [5, 10, 15, 20],\n",
    "'min_samples_leaf': [2, 3, 4, 5, 6],\n",
    "'ccp_alpha': [0, 0.001, 0.01, 0.1, 1, 10]\n",
    "}"
   ]
  },
  {
   "cell_type": "code",
   "execution_count": 82,
   "id": "9e6e5c19",
   "metadata": {},
   "outputs": [],
   "source": [
    "gs = GridSearchCV(DecisionTreeClassifier(random_state=42), param_grid=grid)"
   ]
  },
  {
   "cell_type": "code",
   "execution_count": 83,
   "id": "82276feb",
   "metadata": {},
   "outputs": [
    {
     "data": {
      "text/plain": [
       "GridSearchCV(estimator=DecisionTreeClassifier(random_state=42),\n",
       "             param_grid={'ccp_alpha': [0, 0.001, 0.01, 0.1, 1, 10],\n",
       "                         'max_depth': [2, 3, 5, 7],\n",
       "                         'min_samples_leaf': [2, 3, 4, 5, 6],\n",
       "                         'min_samples_split': [5, 10, 15, 20]})"
      ]
     },
     "execution_count": 83,
     "metadata": {},
     "output_type": "execute_result"
    }
   ],
   "source": [
    "# Fit the model\n",
    "gs.fit(X_train_cvec, y_train)"
   ]
  },
  {
   "cell_type": "code",
   "execution_count": 84,
   "id": "caf6140d",
   "metadata": {},
   "outputs": [
    {
     "data": {
      "text/plain": [
       "{'ccp_alpha': 0, 'max_depth': 3, 'min_samples_leaf': 2, 'min_samples_split': 5}"
      ]
     },
     "execution_count": 84,
     "metadata": {},
     "output_type": "execute_result"
    }
   ],
   "source": [
    "# Finding the best parameters\n",
    "gs.best_params_"
   ]
  },
  {
   "cell_type": "code",
   "execution_count": 87,
   "id": "2e5872bc",
   "metadata": {},
   "outputs": [
    {
     "data": {
      "text/plain": [
       "0.792131329994435"
      ]
     },
     "execution_count": 87,
     "metadata": {},
     "output_type": "execute_result"
    }
   ],
   "source": [
    "gs.best_score_"
   ]
  },
  {
   "cell_type": "code",
   "execution_count": 88,
   "id": "c28e936b",
   "metadata": {},
   "outputs": [],
   "source": [
    "#cross_val_score(gs, X_train_cvec, y_train).mean()"
   ]
  },
  {
   "cell_type": "code",
   "execution_count": 89,
   "id": "e2daf042",
   "metadata": {},
   "outputs": [
    {
     "name": "stdout",
     "output_type": "stream",
     "text": [
      "Score on training set: 0.7927927927927928\n",
      "Score on testing set: 0.794\n"
     ]
    }
   ],
   "source": [
    "# Evaluate the modified model\n",
    "# this fits much better the training set, still not as good and the logist regression in Model 1\n",
    "print(f'Score on training set: {gs.score(X_train_cvec, y_train)}')\n",
    "print(f'Score on testing set: {gs.score(X_test_cvec, y_test)}')"
   ]
  },
  {
   "cell_type": "code",
   "execution_count": 90,
   "id": "5cc977ac",
   "metadata": {},
   "outputs": [],
   "source": [
    "# Generate predictions on test set.\n",
    "preds = gs.predict(X_test_cvec)"
   ]
  },
  {
   "cell_type": "code",
   "execution_count": 91,
   "id": "ec487652",
   "metadata": {},
   "outputs": [
    {
     "name": "stdout",
     "output_type": "stream",
     "text": [
      "[[317 202]\n",
      " [  4 477]]\n"
     ]
    }
   ],
   "source": [
    "# Generate confusion matrix.\n",
    "# 0s on top, 1s at the bottom\n",
    "# TN FP       > actuals 0\n",
    "# FN TP       > actual 1\n",
    "tn, fp, fn, tp = confusion_matrix(y_test, preds).ravel()\n",
    "print(confusion_matrix(y_test, preds))"
   ]
  },
  {
   "cell_type": "code",
   "execution_count": 92,
   "id": "220a4183",
   "metadata": {},
   "outputs": [
    {
     "data": {
      "image/png": "[encoded data removed]",
      "text/plain": [
       "<Figure size 432x288 with 2 Axes>"
      ]
     },
     "metadata": {
      "needs_background": "light"
     },
     "output_type": "display_data"
    }
   ],
   "source": [
    "metrics.plot_confusion_matrix(gs, X_test_cvec, y_test, cmap='Blues', \n",
    "                      values_format='d', display_labels=['Tesla', 'SpaceX'])\n",
    "plt.title('Decision Trees Confusion Matrix', fontsize=16)\n",
    "plt.savefig('pictures/conf_trees.png', bbox_inches='tight');"
   ]
  },
  {
   "cell_type": "code",
   "execution_count": 93,
   "id": "47fa5696",
   "metadata": {},
   "outputs": [
    {
     "data": {
      "text/plain": [
       "0.7025036818851251"
      ]
     },
     "execution_count": 93,
     "metadata": {},
     "output_type": "execute_result"
    }
   ],
   "source": [
    "# *****Precision tp/(tp+fp). When it predicts yes(postive), how often is it correct?\n",
    "tp/(tp+fp)"
   ]
  },
  {
   "cell_type": "code",
   "execution_count": 94,
   "id": "695bdb7e",
   "metadata": {},
   "outputs": [
    {
     "data": {
      "text/plain": [
       "0.9916839916839917"
      ]
     },
     "execution_count": 94,
     "metadata": {},
     "output_type": "execute_result"
    }
   ],
   "source": [
    "# ****Recall (sensitivity) tp/(tp + fn).  Out of all the positives, what percentage are predicted\n",
    "tp/(tp+fn)"
   ]
  },
  {
   "cell_type": "code",
   "execution_count": 95,
   "id": "416266f0",
   "metadata": {},
   "outputs": [
    {
     "data": {
      "text/plain": [
       "0.794"
      ]
     },
     "execution_count": 95,
     "metadata": {},
     "output_type": "execute_result"
    }
   ],
   "source": [
    "# Accuracy (tn + tp)/(tn + tp + fp + fn).  How often is the mode correct?\n",
    "(tn + tp)/(tn + tp + fp + fn)"
   ]
  },
  {
   "cell_type": "code",
   "execution_count": 96,
   "id": "3dc0f470",
   "metadata": {},
   "outputs": [
    {
     "data": {
      "text/plain": [
       "0.6107899807321773"
      ]
     },
     "execution_count": 96,
     "metadata": {},
     "output_type": "execute_result"
    }
   ],
   "source": [
    "# Specificity tn/(tn + fp).  Of al the negatives what percentage are predicted?\n",
    "tn/(tn + fp)"
   ]
  },
  {
   "cell_type": "code",
   "execution_count": 97,
   "id": "724db7b1",
   "metadata": {},
   "outputs": [
    {
     "data": {
      "text/html": [
       "<div>\n",
       "<style scoped>\n",
       "    .dataframe tbody tr th:only-of-type {\n",
       "        vertical-align: middle;\n",
       "    }\n",
       "\n",
       "    .dataframe tbody tr th {\n",
       "        vertical-align: top;\n",
       "    }\n",
       "\n",
       "    .dataframe thead th {\n",
       "        text-align: right;\n",
       "    }\n",
       "</style>\n",
       "<table border=\"1\" class=\"dataframe\">\n",
       "  <thead>\n",
       "    <tr style=\"text-align: right;\">\n",
       "      <th></th>\n",
       "      <th>true</th>\n",
       "      <th>pred</th>\n",
       "    </tr>\n",
       "  </thead>\n",
       "  <tbody>\n",
       "    <tr>\n",
       "      <th>1761</th>\n",
       "      <td>0</td>\n",
       "      <td>0.626006</td>\n",
       "    </tr>\n",
       "    <tr>\n",
       "      <th>3017</th>\n",
       "      <td>1</td>\n",
       "      <td>0.626006</td>\n",
       "    </tr>\n",
       "    <tr>\n",
       "      <th>1771</th>\n",
       "      <td>0</td>\n",
       "      <td>0.626006</td>\n",
       "    </tr>\n",
       "    <tr>\n",
       "      <th>3704</th>\n",
       "      <td>1</td>\n",
       "      <td>0.626006</td>\n",
       "    </tr>\n",
       "    <tr>\n",
       "      <th>2100</th>\n",
       "      <td>1</td>\n",
       "      <td>0.993890</td>\n",
       "    </tr>\n",
       "  </tbody>\n",
       "</table>\n",
       "</div>"
      ],
      "text/plain": [
       "      true      pred\n",
       "1761     0  0.626006\n",
       "3017     1  0.626006\n",
       "1771     0  0.626006\n",
       "3704     1  0.626006\n",
       "2100     1  0.993890"
      ]
     },
     "execution_count": 97,
     "metadata": {},
     "output_type": "execute_result"
    }
   ],
   "source": [
    "#creating dataframe for histogram\n",
    "pred_tree_df = pd.DataFrame({'true': y_test,\n",
    "'pred': gs.predict_proba(X_test_cvec)[:,1\n",
    "]})\n",
    "pred_tree_df.head()"
   ]
  },
  {
   "cell_type": "code",
   "execution_count": 98,
   "id": "7da710cd",
   "metadata": {},
   "outputs": [
    {
     "name": "stderr",
     "output_type": "stream",
     "text": [
      "C:\\Users\\Ale\\anaconda3\\lib\\site-packages\\seaborn\\distributions.py:2557: FutureWarning: `distplot` is a deprecated function and will be removed in a future version. Please adapt your code to use either `displot` (a figure-level function with similar flexibility) or `histplot` (an axes-level function for histograms).\n",
      "  warnings.warn(msg, FutureWarning)\n"
     ]
    },
    {
     "data": {
      "image/png": "[encoded data removed]",
      "text/plain": [
       "<Figure size 576x576 with 1 Axes>"
      ]
     },
     "metadata": {
      "needs_background": "light"
     },
     "output_type": "display_data"
    }
   ],
   "source": [
    "plt.figure(figsize = (8, 8))\n",
    "for group in pred_tree_df.groupby('true'):\n",
    "    sns.distplot(group[1], kde = False, bins = 10, label = f'Actual Outcome = {group[0]}')\n",
    "    plt.title('Decision Trees Predicted Probability', fontsize=16)\n",
    "plt.xlabel('Predicted Probability that Outcome = SpaceX')\n",
    "plt.axvline(.5, color = 'red')\n",
    "plt.legend(('0.5', 'Tesla', 'SpaceX',))\n",
    "plt.savefig('pictures/pred_trees.png', bbox_inches='tight');"
   ]
  },
  {
   "cell_type": "markdown",
   "id": "c54d4d24",
   "metadata": {},
   "source": [
    "### Model 3\n",
    "#### Pipeline\n",
    "* CountVectorizer\n",
    "* Logistic Regression"
   ]
  },
  {
   "cell_type": "code",
   "execution_count": 99,
   "id": "732d7ab2",
   "metadata": {},
   "outputs": [],
   "source": [
    "from sklearn.pipeline import Pipeline"
   ]
  },
  {
   "cell_type": "code",
   "execution_count": 100,
   "id": "7b4e8ce7",
   "metadata": {},
   "outputs": [],
   "source": [
    "# Pipeline\n",
    "pipe = Pipeline([\n",
    "    ('cvec_p', CountVectorizer()),\n",
    "    ('model', LogisticRegression())\n",
    "])"
   ]
  },
  {
   "cell_type": "code",
   "execution_count": 101,
   "id": "ce00edb7",
   "metadata": {},
   "outputs": [
    {
     "data": {
      "text/plain": [
       "Pipeline(steps=[('cvec_p', CountVectorizer()), ('model', LogisticRegression())])"
      ]
     },
     "execution_count": 101,
     "metadata": {},
     "output_type": "execute_result"
    }
   ],
   "source": [
    "# Fit\n",
    "pipe.fit(X_train, y_train)"
   ]
  },
  {
   "cell_type": "code",
   "execution_count": 102,
   "id": "667f177f",
   "metadata": {},
   "outputs": [
    {
     "data": {
      "text/plain": [
       "(0.9856523189856523, 0.912)"
      ]
     },
     "execution_count": 102,
     "metadata": {},
     "output_type": "execute_result"
    }
   ],
   "source": [
    "pipe.score(X_train, y_train), pipe.score(X_test, y_test)"
   ]
  },
  {
   "cell_type": "code",
   "execution_count": 103,
   "id": "758e8b30",
   "metadata": {},
   "outputs": [
    {
     "data": {
      "text/plain": [
       "0.8805481357818585"
      ]
     },
     "execution_count": 103,
     "metadata": {},
     "output_type": "execute_result"
    }
   ],
   "source": [
    "cross_val_score(pipe, X_train, y_train).mean()"
   ]
  },
  {
   "cell_type": "code",
   "execution_count": 104,
   "id": "ae5eb728",
   "metadata": {},
   "outputs": [],
   "source": [
    "preds_pipe = pipe.predict(X_test)"
   ]
  },
  {
   "cell_type": "code",
   "execution_count": 105,
   "id": "091ddb77",
   "metadata": {},
   "outputs": [
    {
     "name": "stdout",
     "output_type": "stream",
     "text": [
      "[[481  38]\n",
      " [ 50 431]]\n"
     ]
    }
   ],
   "source": [
    "#tn, fp, fn, tp = confusion_matrix(pipe, X_test, y_test)\n",
    "# Generate confusion matrix.\n",
    "tn2, fp2, fn2, tp2 = confusion_matrix(y_test, preds_pipe).ravel()\n",
    "print(confusion_matrix(y_test, preds_pipe))"
   ]
  },
  {
   "cell_type": "code",
   "execution_count": 106,
   "id": "cd916bef",
   "metadata": {},
   "outputs": [
    {
     "data": {
      "image/png": "[encoded data removed]",
      "text/plain": [
       "<Figure size 432x288 with 2 Axes>"
      ]
     },
     "metadata": {
      "needs_background": "light"
     },
     "output_type": "display_data"
    }
   ],
   "source": [
    "metrics.plot_confusion_matrix(pipe, X_test, y_test, cmap='Blues', \n",
    "                      values_format='d', display_labels=['Tesla', 'SpaceX'])\n",
    "plt.title('Pipeline Confusion Matrix', fontsize=16)\n",
    "plt.savefig('pictures/conf_pipe.png', bbox_inches='tight');"
   ]
  },
  {
   "cell_type": "code",
   "execution_count": 107,
   "id": "734207a2",
   "metadata": {},
   "outputs": [
    {
     "data": {
      "text/plain": [
       "0.9189765458422174"
      ]
     },
     "execution_count": 107,
     "metadata": {},
     "output_type": "execute_result"
    }
   ],
   "source": [
    "# *****Precision tp/(tp+fp). When it predicts yes(postive), how often is it correct?\n",
    "tp2/(tp2+fp2)"
   ]
  },
  {
   "cell_type": "code",
   "execution_count": 108,
   "id": "5db380f5",
   "metadata": {},
   "outputs": [
    {
     "data": {
      "text/plain": [
       "0.896049896049896"
      ]
     },
     "execution_count": 108,
     "metadata": {},
     "output_type": "execute_result"
    }
   ],
   "source": [
    "# ****Recall (sensitivity) tp/(tp + fn).  Out of all the positives, what percentage are predicted\n",
    "tp2/(tp2+fn2)"
   ]
  },
  {
   "cell_type": "code",
   "execution_count": 109,
   "id": "01958e4c",
   "metadata": {},
   "outputs": [
    {
     "data": {
      "text/plain": [
       "0.912"
      ]
     },
     "execution_count": 109,
     "metadata": {},
     "output_type": "execute_result"
    }
   ],
   "source": [
    "# Accuracy (tn + tp)/(tn + tp + fp + fn).  How often is the mode correct?\n",
    "(tn2 + tp2)/(tn2 + tp2 + fp2 + fn2)"
   ]
  },
  {
   "cell_type": "code",
   "execution_count": 110,
   "id": "22f5e097",
   "metadata": {},
   "outputs": [
    {
     "data": {
      "text/plain": [
       "0.9267822736030829"
      ]
     },
     "execution_count": 110,
     "metadata": {},
     "output_type": "execute_result"
    }
   ],
   "source": [
    "# Specificity tn/(tn + fp).  Of al the negatives what percentage are predicted?\n",
    "tn2/(tn2 + fp2)"
   ]
  },
  {
   "cell_type": "code",
   "execution_count": 111,
   "id": "9935d656",
   "metadata": {
    "scrolled": true
   },
   "outputs": [
    {
     "data": {
      "text/html": [
       "<div>\n",
       "<style scoped>\n",
       "    .dataframe tbody tr th:only-of-type {\n",
       "        vertical-align: middle;\n",
       "    }\n",
       "\n",
       "    .dataframe tbody tr th {\n",
       "        vertical-align: top;\n",
       "    }\n",
       "\n",
       "    .dataframe thead th {\n",
       "        text-align: right;\n",
       "    }\n",
       "</style>\n",
       "<table border=\"1\" class=\"dataframe\">\n",
       "  <thead>\n",
       "    <tr style=\"text-align: right;\">\n",
       "      <th></th>\n",
       "      <th>true</th>\n",
       "      <th>pred</th>\n",
       "    </tr>\n",
       "  </thead>\n",
       "  <tbody>\n",
       "    <tr>\n",
       "      <th>1761</th>\n",
       "      <td>0</td>\n",
       "      <td>0.407508</td>\n",
       "    </tr>\n",
       "    <tr>\n",
       "      <th>3017</th>\n",
       "      <td>1</td>\n",
       "      <td>0.803121</td>\n",
       "    </tr>\n",
       "    <tr>\n",
       "      <th>1771</th>\n",
       "      <td>0</td>\n",
       "      <td>0.155738</td>\n",
       "    </tr>\n",
       "    <tr>\n",
       "      <th>3704</th>\n",
       "      <td>1</td>\n",
       "      <td>0.972038</td>\n",
       "    </tr>\n",
       "    <tr>\n",
       "      <th>2100</th>\n",
       "      <td>1</td>\n",
       "      <td>0.974410</td>\n",
       "    </tr>\n",
       "  </tbody>\n",
       "</table>\n",
       "</div>"
      ],
      "text/plain": [
       "      true      pred\n",
       "1761     0  0.407508\n",
       "3017     1  0.803121\n",
       "1771     0  0.155738\n",
       "3704     1  0.972038\n",
       "2100     1  0.974410"
      ]
     },
     "execution_count": 111,
     "metadata": {},
     "output_type": "execute_result"
    }
   ],
   "source": [
    "#creating dataframe for histogram\n",
    "pred_pipe_df = pd.DataFrame({'true': y_test,\n",
    "'pred': pipe.predict_proba(X_test)[:,1\n",
    "]})\n",
    "pred_pipe_df.head()"
   ]
  },
  {
   "cell_type": "code",
   "execution_count": 112,
   "id": "f01d6970",
   "metadata": {
    "scrolled": true
   },
   "outputs": [
    {
     "name": "stderr",
     "output_type": "stream",
     "text": [
      "C:\\Users\\Ale\\anaconda3\\lib\\site-packages\\seaborn\\distributions.py:2557: FutureWarning: `distplot` is a deprecated function and will be removed in a future version. Please adapt your code to use either `displot` (a figure-level function with similar flexibility) or `histplot` (an axes-level function for histograms).\n",
      "  warnings.warn(msg, FutureWarning)\n"
     ]
    },
    {
     "data": {
      "image/png": "[encoded data removed]",
      "text/plain": [
       "<Figure size 576x576 with 1 Axes>"
      ]
     },
     "metadata": {
      "needs_background": "light"
     },
     "output_type": "display_data"
    }
   ],
   "source": [
    "plt.figure(figsize = (8, 8))\n",
    "for group in pred_pipe_df.groupby('true'):\n",
    "    sns.distplot(group[1], kde = False, bins = 10, label = f'Actual Outcome = {group[0]}')\n",
    "    plt.title('Pipeline Predicted Probability', fontsize=16)\n",
    "plt.xlabel('Predicted Probability that Outcome = SpaceX')\n",
    "plt.axvline(.5, color = 'red')\n",
    "plt.legend(('0.5','Tesla', 'SpaceX'))\n",
    "plt.savefig('pictures/pred_pipe.png', bbox_inches='tight');"
   ]
  },
  {
   "cell_type": "code",
   "execution_count": null,
   "id": "67f0e3f9",
   "metadata": {},
   "outputs": [],
   "source": []
  }
 ],
 "metadata": {
  "kernelspec": {
   "display_name": "Python 3",
   "language": "python",
   "name": "python3"
  },
  "language_info": {
   "codemirror_mode": {
    "name": "ipython",
    "version": 3
   },
   "file_extension": ".py",
   "mimetype": "text/x-python",
   "name": "python",
   "nbconvert_exporter": "python",
   "pygments_lexer": "ipython3",
   "version": "3.8.8"
  }
 },
 "nbformat": 4,
 "nbformat_minor": 5
}
